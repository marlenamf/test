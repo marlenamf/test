{
 "cells": [
  {
   "cell_type": "code",
   "execution_count": 1,
   "metadata": {},
   "outputs": [],
   "source": [
    "from selenium import webdriver\n",
    "import time"
   ]
  },
  {
   "cell_type": "code",
   "execution_count": 2,
   "metadata": {},
   "outputs": [],
   "source": [
    "from selenium import webdriver\n",
    "from selenium.webdriver.common.by import By\n",
    "options = webdriver.ChromeOptions()\n",
    "options.add_argument(\"--start-maximized\")\n",
    "options.add_argument('--log-level=3')\n",
    "options.add_argument(\"--silent\")\n",
    "# options.add_argument(\"--headless=new\")\n",
    "\n",
    "driver = webdriver.Chrome(executable_path=r'C:\\Users\\marle\\Downloads\\chromedriver.exe',options=options)"
   ]
  },
  {
   "cell_type": "code",
   "execution_count": 69,
   "metadata": {},
   "outputs": [],
   "source": [
    "driver.get('https://www.stubhub.co.uk/')"
   ]
  },
  {
   "cell_type": "code",
   "execution_count": 70,
   "metadata": {},
   "outputs": [],
   "source": [
    "search_box = driver.find_element(By.CLASS_NAME, \"edit\")"
   ]
  },
  {
   "cell_type": "code",
   "execution_count": 71,
   "metadata": {},
   "outputs": [],
   "source": [
    "from selenium import webdriver\n",
    "from selenium.webdriver.common.by import By\n",
    "from selenium.webdriver.common.keys import Keys\n",
    "\n",
    "search_box.send_keys(\"coldplay wembley\" + Keys.ENTER)\n",
    "time.sleep(5)"
   ]
  },
  {
   "cell_type": "code",
   "execution_count": 72,
   "metadata": {},
   "outputs": [],
   "source": [
    "from bs4 import BeautifulSoup\n",
    "html = driver.page_source\n",
    "soup = BeautifulSoup(html, \"html.parser\")\n"
   ]
  },
  {
   "cell_type": "code",
   "execution_count": 73,
   "metadata": {},
   "outputs": [],
   "source": [
    "event_info = soup.find_all(class_=\"EventItem__Info\")"
   ]
  },
  {
   "cell_type": "code",
   "execution_count": 74,
   "metadata": {},
   "outputs": [
    {
     "name": "stdout",
     "output_type": "stream",
     "text": [
      "<div class=\"EventItem__Info\"><div class=\"EventItem__Date\"><div class=\"DateStamp\" data-timestamp=\"1755896400000\"><time><span class=\"DateStamp__Day DateStamp__Day--highlight\">Fri</span><span class=\"DateStamp__MonthDateYear\"><span>22 Aug 2025</span></span></time></div></div><div class=\"EventItem__Details\"><div class=\"EventItem__EventInfo\"><div class=\"EventItem__Title\"><a class=\"cbt-redirection__link EventItem__TitleLink\" data-testid=\"cbt-redirection-link\" data-url=\"coldplay-tickets-london-wembley-stadium-22-8-2025/event/106485372/\" href=\"/coldplay-tickets-london-wembley-stadium-22-8-2025/event/106485372/\"><div>Coldplay London</div></a></div><div class=\"EventItem__MixInfo\"><span><time>17:00</time> - <span class=\"EventItem__VenueInfo\">Wembley Stadium, London, LND, GB</span></span></div><div class=\"urgency-msg-container\"><div class=\"urgency-msg-tickets-left-site\" data-tier=\"201\"><span>200+ tickets left on our site</span></div><div class=\"urgency-msg-tickets-available-site\" data-tier=\"201\"><span>200+ tickets available on our site</span></div></div></div><div class=\"EventItem__Tickets\"><div class=\"EventItem__PriceWrapper EventItem__PriceWrapper--phone\"><span class=\"EventItem__From\">from</span><span class=\"EventItem__Price\"><div class=\"AdvisoryPriceDisplay__content\">£319</div></span></div><button class=\"EventItem__PriceWrapper EventItem__PriceWrapper--desktop bb-button bb-button--rounded bb-button--primary bb-button--md\" tabindex=\"0\" type=\"secondary\"> <span><span class=\"EventItem__From\">from</span><span class=\"EventItem__Price\"><div class=\"AdvisoryPriceDisplay__content\">£319</div></span></span> </button></div></div></div>\n",
      "<div class=\"EventItem__Info\"><div class=\"EventItem__Date\"><div class=\"DateStamp\" data-timestamp=\"1755982800000\"><time><span class=\"DateStamp__Day DateStamp__Day--highlight\">Sat</span><span class=\"DateStamp__MonthDateYear\"><span>23 Aug 2025</span></span></time></div></div><div class=\"EventItem__Details\"><div class=\"EventItem__EventInfo\"><div class=\"EventItem__Title\"><a class=\"cbt-redirection__link EventItem__TitleLink\" data-testid=\"cbt-redirection-link\" data-url=\"coldplay-tickets-london-wembley-stadium-23-8-2025/event/106486230/\" href=\"/coldplay-tickets-london-wembley-stadium-23-8-2025/event/106486230/\"><div>Coldplay London</div></a></div><div class=\"EventItem__MixInfo\"><span><time>17:00</time> - <span class=\"EventItem__VenueInfo\">Wembley Stadium, London, LND, GB</span></span></div><div class=\"urgency-msg-container\"><div class=\"urgency-msg-tickets-left-site\" data-tier=\"201\"><span>200+ tickets left on our site</span></div><div class=\"urgency-msg-tickets-available-site\" data-tier=\"201\"><span>200+ tickets available on our site</span></div></div></div><div class=\"EventItem__Tickets\"><div class=\"EventItem__PriceWrapper EventItem__PriceWrapper--phone\"><span class=\"EventItem__From\">from</span><span class=\"EventItem__Price\"><div class=\"AdvisoryPriceDisplay__content\">£368</div></span></div><button class=\"EventItem__PriceWrapper EventItem__PriceWrapper--desktop bb-button bb-button--rounded bb-button--primary bb-button--md\" tabindex=\"0\" type=\"secondary\"> <span><span class=\"EventItem__From\">from</span><span class=\"EventItem__Price\"><div class=\"AdvisoryPriceDisplay__content\">£368</div></span></span> </button></div></div></div>\n",
      "<div class=\"EventItem__Info\"><div class=\"EventItem__Date\"><div class=\"DateStamp\" data-timestamp=\"1756242000000\"><time><span class=\"DateStamp__Day DateStamp__Day--highlight\">Tue</span><span class=\"DateStamp__MonthDateYear\"><span>26 Aug 2025</span></span></time></div></div><div class=\"EventItem__Details\"><div class=\"EventItem__EventInfo\"><div class=\"EventItem__Title\"><a class=\"cbt-redirection__link EventItem__TitleLink\" data-testid=\"cbt-redirection-link\" data-url=\"coldplay-tickets-london-wembley-stadium-26-8-2025/event/106486231/\" href=\"/coldplay-tickets-london-wembley-stadium-26-8-2025/event/106486231/\"><div>Coldplay London</div></a></div><div class=\"EventItem__MixInfo\"><span><time>17:00</time> - <span class=\"EventItem__VenueInfo\">Wembley Stadium, London, LND, GB</span></span></div><div class=\"urgency-msg-container\"><div class=\"urgency-msg-tickets-left-site\" data-tier=\"201\"><span>200+ tickets left on our site</span></div><div class=\"urgency-msg-tickets-available-site\" data-tier=\"201\"><span>200+ tickets available on our site</span></div></div></div><div class=\"EventItem__Tickets\"><div class=\"EventItem__PriceWrapper EventItem__PriceWrapper--phone\"><span class=\"EventItem__From\">from</span><span class=\"EventItem__Price\"><div class=\"AdvisoryPriceDisplay__content\">£337</div></span></div><button class=\"EventItem__PriceWrapper EventItem__PriceWrapper--desktop bb-button bb-button--rounded bb-button--primary bb-button--md\" tabindex=\"0\" type=\"secondary\"> <span><span class=\"EventItem__From\">from</span><span class=\"EventItem__Price\"><div class=\"AdvisoryPriceDisplay__content\">£337</div></span></span> </button></div></div></div>\n",
      "<div class=\"EventItem__Info\"><div class=\"EventItem__Date\"><div class=\"DateStamp\" data-timestamp=\"1756328400000\"><time><span class=\"DateStamp__Day DateStamp__Day--highlight\">Wed</span><span class=\"DateStamp__MonthDateYear\"><span>27 Aug 2025</span></span></time></div></div><div class=\"EventItem__Details\"><div class=\"EventItem__EventInfo\"><div class=\"EventItem__Title\"><a class=\"cbt-redirection__link EventItem__TitleLink\" data-testid=\"cbt-redirection-link\" data-url=\"coldplay-tickets-london-wembley-stadium-27-8-2025/event/106486232/\" href=\"/coldplay-tickets-london-wembley-stadium-27-8-2025/event/106486232/\"><div>Coldplay London</div></a></div><div class=\"EventItem__MixInfo\"><span><time>17:00</time> - <span class=\"EventItem__VenueInfo\">Wembley Stadium, London, LND, GB</span></span></div><div class=\"urgency-msg-container\"><div class=\"urgency-msg-tickets-left-site\" data-tier=\"201\"><span>200+ tickets left on our site</span></div><div class=\"urgency-msg-tickets-available-site\" data-tier=\"201\"><span>200+ tickets available on our site</span></div></div></div><div class=\"EventItem__Tickets\"><div class=\"EventItem__PriceWrapper EventItem__PriceWrapper--phone\"><span class=\"EventItem__From\">from</span><span class=\"EventItem__Price\"><div class=\"AdvisoryPriceDisplay__content\">£340</div></span></div><button class=\"EventItem__PriceWrapper EventItem__PriceWrapper--desktop bb-button bb-button--rounded bb-button--primary bb-button--md\" tabindex=\"0\" type=\"secondary\"> <span><span class=\"EventItem__From\">from</span><span class=\"EventItem__Price\"><div class=\"AdvisoryPriceDisplay__content\">£340</div></span></span> </button></div></div></div>\n",
      "<div class=\"EventItem__Info\"><div class=\"EventItem__Date\"><div class=\"DateStamp\" data-timestamp=\"1756587600000\"><time><span class=\"DateStamp__Day DateStamp__Day--highlight\">Sat</span><span class=\"DateStamp__MonthDateYear\"><span>30 Aug 2025</span></span></time></div></div><div class=\"EventItem__Details\"><div class=\"EventItem__EventInfo\"><div class=\"EventItem__Title\"><a class=\"cbt-redirection__link EventItem__TitleLink\" data-testid=\"cbt-redirection-link\" data-url=\"coldplay-tickets-london-wembley-stadium-30-8-2025/event/106485373/\" href=\"/coldplay-tickets-london-wembley-stadium-30-8-2025/event/106485373/\"><div>Coldplay London</div></a></div><div class=\"EventItem__MixInfo\"><span><time>17:00</time> - <span class=\"EventItem__VenueInfo\">Wembley Stadium, London, LND, GB</span></span></div><div class=\"urgency-msg-container\"><div class=\"urgency-msg-tickets-left-site\" data-tier=\"201\"><span>200+ tickets left on our site</span></div><div class=\"urgency-msg-tickets-available-site\" data-tier=\"201\"><span>200+ tickets available on our site</span></div></div></div><div class=\"EventItem__Tickets\"><div class=\"EventItem__PriceWrapper EventItem__PriceWrapper--phone\"><span class=\"EventItem__From\">from</span><span class=\"EventItem__Price\"><div class=\"AdvisoryPriceDisplay__content\">£335</div></span></div><button class=\"EventItem__PriceWrapper EventItem__PriceWrapper--desktop bb-button bb-button--rounded bb-button--primary bb-button--md\" tabindex=\"0\" type=\"secondary\"> <span><span class=\"EventItem__From\">from</span><span class=\"EventItem__Price\"><div class=\"AdvisoryPriceDisplay__content\">£335</div></span></span> </button></div></div></div>\n",
      "<div class=\"EventItem__Info\"><div class=\"EventItem__Date\"><div class=\"DateStamp\" data-timestamp=\"1756674000000\"><time><span class=\"DateStamp__Day DateStamp__Day--highlight\">Sun</span><span class=\"DateStamp__MonthDateYear\"><span>31 Aug 2025</span></span></time></div></div><div class=\"EventItem__Details\"><div class=\"EventItem__EventInfo\"><div class=\"EventItem__Title\"><a class=\"cbt-redirection__link EventItem__TitleLink\" data-testid=\"cbt-redirection-link\" data-url=\"coldplay-tickets-london-wembley-stadium-31-8-2025/event/106486233/\" href=\"/coldplay-tickets-london-wembley-stadium-31-8-2025/event/106486233/\"><div>Coldplay London</div></a></div><div class=\"EventItem__MixInfo\"><span><time>17:00</time> - <span class=\"EventItem__VenueInfo\">Wembley Stadium, London, LND, GB</span></span></div><div class=\"urgency-msg-container\"><div class=\"urgency-msg-tickets-left-site\" data-tier=\"201\"><span>200+ tickets left on our site</span></div><div class=\"urgency-msg-tickets-available-site\" data-tier=\"201\"><span>200+ tickets available on our site</span></div></div></div><div class=\"EventItem__Tickets\"><div class=\"EventItem__PriceWrapper EventItem__PriceWrapper--phone\"><span class=\"EventItem__From\">from</span><span class=\"EventItem__Price\"><div class=\"AdvisoryPriceDisplay__content\">£271</div></span></div><button class=\"EventItem__PriceWrapper EventItem__PriceWrapper--desktop bb-button bb-button--rounded bb-button--primary bb-button--md\" tabindex=\"0\" type=\"secondary\"> <span><span class=\"EventItem__From\">from</span><span class=\"EventItem__Price\"><div class=\"AdvisoryPriceDisplay__content\">£271</div></span></span> </button></div></div></div>\n",
      "<div class=\"EventItem__Info\"><div class=\"EventItem__Date\"><div class=\"DateStamp\" data-timestamp=\"1756933200000\"><time><span class=\"DateStamp__Day DateStamp__Day--highlight\">Wed</span><span class=\"DateStamp__MonthDateYear\"><span>3 Sept 2025</span></span></time></div></div><div class=\"EventItem__Details\"><div class=\"EventItem__EventInfo\"><div class=\"EventItem__Title\"><a class=\"cbt-redirection__link EventItem__TitleLink\" data-testid=\"cbt-redirection-link\" data-url=\"coldplay-tickets-london-wembley-stadium-3-9-2025/event/106485477/\" href=\"/coldplay-tickets-london-wembley-stadium-3-9-2025/event/106485477/\"><div>Coldplay London</div></a></div><div class=\"EventItem__MixInfo\"><span><time>17:00</time> - <span class=\"EventItem__VenueInfo\">Wembley Stadium, London, LND, GB</span></span></div><div class=\"urgency-msg-container\"><div class=\"urgency-msg-tickets-left-site\" data-tier=\"201\"><span>200+ tickets left on our site</span></div><div class=\"urgency-msg-tickets-available-site\" data-tier=\"201\"><span>200+ tickets available on our site</span></div></div></div><div class=\"EventItem__Tickets\"><div class=\"EventItem__PriceWrapper EventItem__PriceWrapper--phone\"><span class=\"EventItem__From\">from</span><span class=\"EventItem__Price\"><div class=\"AdvisoryPriceDisplay__content\">£264</div></span></div><button class=\"EventItem__PriceWrapper EventItem__PriceWrapper--desktop bb-button bb-button--rounded bb-button--primary bb-button--md\" tabindex=\"0\" type=\"secondary\"> <span><span class=\"EventItem__From\">from</span><span class=\"EventItem__Price\"><div class=\"AdvisoryPriceDisplay__content\">£264</div></span></span> </button></div></div></div>\n",
      "<div class=\"EventItem__Info\"><div class=\"EventItem__Date\"><div class=\"DateStamp\" data-timestamp=\"1757019600000\"><time><span class=\"DateStamp__Day DateStamp__Day--highlight\">Thu</span><span class=\"DateStamp__MonthDateYear\"><span>4 Sept 2025</span></span></time></div></div><div class=\"EventItem__Details\"><div class=\"EventItem__EventInfo\"><div class=\"EventItem__Title\"><a class=\"cbt-redirection__link EventItem__TitleLink\" data-testid=\"cbt-redirection-link\" data-url=\"coldplay-tickets-london-wembley-stadium-4-9-2025/event/106485478/\" href=\"/coldplay-tickets-london-wembley-stadium-4-9-2025/event/106485478/\"><div>Coldplay London</div></a></div><div class=\"EventItem__MixInfo\"><span><time>17:00</time> - <span class=\"EventItem__VenueInfo\">Wembley Stadium, London, LND, GB</span></span></div><div class=\"urgency-msg-container\"><div class=\"urgency-msg-tickets-left-site\" data-tier=\"201\"><span>200+ tickets left on our site</span></div><div class=\"urgency-msg-tickets-available-site\" data-tier=\"201\"><span>200+ tickets available on our site</span></div></div></div><div class=\"EventItem__Tickets\"><div class=\"EventItem__PriceWrapper EventItem__PriceWrapper--phone\"><span class=\"EventItem__From\">from</span><span class=\"EventItem__Price\"><div class=\"AdvisoryPriceDisplay__content\">£269</div></span></div><button class=\"EventItem__PriceWrapper EventItem__PriceWrapper--desktop bb-button bb-button--rounded bb-button--primary bb-button--md\" tabindex=\"0\" type=\"secondary\"> <span><span class=\"EventItem__From\">from</span><span class=\"EventItem__Price\"><div class=\"AdvisoryPriceDisplay__content\">£269</div></span></span> </button></div></div></div>\n",
      "<div class=\"EventItem__Info\"><div class=\"EventItem__Date\"><div class=\"DateStamp\" data-timestamp=\"1757278800000\"><time><span class=\"DateStamp__Day DateStamp__Day--highlight\">Sun</span><span class=\"DateStamp__MonthDateYear\"><span>7 Sept 2025</span></span></time></div></div><div class=\"EventItem__Details\"><div class=\"EventItem__EventInfo\"><div class=\"EventItem__Title\"><a class=\"cbt-redirection__link EventItem__TitleLink\" data-testid=\"cbt-redirection-link\" data-url=\"coldplay-tickets-london-wembley-stadium-7-9-2025/event/106485487/\" href=\"/coldplay-tickets-london-wembley-stadium-7-9-2025/event/106485487/\"><div>Coldplay London</div></a></div><div class=\"EventItem__MixInfo\"><span><time>17:00</time> - <span class=\"EventItem__VenueInfo\">Wembley Stadium, London, LND, GB</span></span></div><div class=\"urgency-msg-container\"><div class=\"urgency-msg-tickets-left-site\" data-tier=\"201\"><span>200+ tickets left on our site</span></div><div class=\"urgency-msg-tickets-available-site\" data-tier=\"201\"><span>200+ tickets available on our site</span></div></div></div><div class=\"EventItem__Tickets\"><div class=\"EventItem__PriceWrapper EventItem__PriceWrapper--phone\"><span class=\"EventItem__From\">from</span><span class=\"EventItem__Price\"><div class=\"AdvisoryPriceDisplay__content\">£239</div></span></div><button class=\"EventItem__PriceWrapper EventItem__PriceWrapper--desktop bb-button bb-button--rounded bb-button--primary bb-button--md\" tabindex=\"0\" type=\"secondary\"> <span><span class=\"EventItem__From\">from</span><span class=\"EventItem__Price\"><div class=\"AdvisoryPriceDisplay__content\">£239</div></span></span> </button></div></div></div>\n",
      "<div class=\"EventItem__Info\"><div class=\"EventItem__Date\"><div class=\"DateStamp\" data-timestamp=\"1757365200000\"><time><span class=\"DateStamp__Day DateStamp__Day--highlight\">Mon</span><span class=\"DateStamp__MonthDateYear\"><span>8 Sept 2025</span></span></time></div></div><div class=\"EventItem__Details\"><div class=\"EventItem__EventInfo\"><div class=\"EventItem__Title\"><a class=\"cbt-redirection__link EventItem__TitleLink\" data-testid=\"cbt-redirection-link\" data-url=\"coldplay-tickets-london-wembley-stadium-8-9-2025/event/106487108/\" href=\"/coldplay-tickets-london-wembley-stadium-8-9-2025/event/106487108/\"><div>Coldplay London</div></a></div><div class=\"EventItem__MixInfo\"><span><time>17:00</time> - <span class=\"EventItem__VenueInfo\">Wembley Stadium, London, LND, GB</span></span></div><div class=\"urgency-msg-container\"><div class=\"urgency-msg-tickets-left-site\" data-tier=\"201\"><span>200+ tickets left on our site</span></div><div class=\"urgency-msg-tickets-available-site\" data-tier=\"201\"><span>200+ tickets available on our site</span></div></div></div><div class=\"EventItem__Tickets\"><div class=\"EventItem__PriceWrapper EventItem__PriceWrapper--phone\"><span class=\"EventItem__From\">from</span><span class=\"EventItem__Price\"><div class=\"AdvisoryPriceDisplay__content\">£245</div></span></div><button class=\"EventItem__PriceWrapper EventItem__PriceWrapper--desktop bb-button bb-button--rounded bb-button--primary bb-button--md\" tabindex=\"0\" type=\"secondary\"> <span><span class=\"EventItem__From\">from</span><span class=\"EventItem__Price\"><div class=\"AdvisoryPriceDisplay__content\">£245</div></span></span> </button></div></div></div>\n"
     ]
    }
   ],
   "source": [
    "for e in event_info:\n",
    "    print(e)"
   ]
  },
  {
   "cell_type": "code",
   "execution_count": 97,
   "metadata": {},
   "outputs": [
    {
     "name": "stdout",
     "output_type": "stream",
     "text": [
      "Coldplay London at Wembley Stadium, London, LND, GB on Sat, 30 Aug 2025\n",
      "https://www.stubhub.co.uk/coldplay-tickets-london-wembley-stadium-8-9-2025/event/106487108/?qty=2&mapType=section&sid=2777927%2C2777990%2C2777973%2C2777974\n",
      "Coldplay London at Wembley Stadium, London, LND, GB on Sun, 31 Aug 2025\n",
      "https://www.stubhub.co.uk/coldplay-tickets-london-wembley-stadium-8-9-2025/event/106487108/?qty=2&mapType=section&sid=2777927%2C2777990%2C2777973%2C2777974\n",
      "Coldplay London at Wembley Stadium, London, LND, GB on Thu, 4 Sept 2025\n",
      "https://www.stubhub.co.uk/coldplay-tickets-london-wembley-stadium-8-9-2025/event/106487108/?qty=2&mapType=section&sid=2777927%2C2777990%2C2777973%2C2777974\n"
     ]
    }
   ],
   "source": [
    "for e in event_info:\n",
    "\n",
    "    # Extract Event Date\n",
    "    date = e.select_one(\".DateStamp__MonthDateYear span\").text.strip()\n",
    "    day = e.select_one(\".DateStamp__Day\").text.strip()\n",
    "    full_date = f\"{day}, {date}\"\n",
    "    event_name = e.select_one(\".EventItem__TitleLink div\").text.strip()\n",
    "    venue = e.select_one(\".EventItem__VenueInfo\").text.strip()\n",
    "    event_link_part = e.select_one(\".EventItem__TitleLink\")[\"href\"]\n",
    "    full_link = f\"https://www.stubhub.co.uk{event_link}?qty=2&mapType=section&sid=2777927%2C2777990%2C2777973%2C2777974\"\n",
    "    # /?qty=2&mapType=section&sid=2777973%2C2777974%2C2777987%2C2777989%2C2777990%2C2777927%2C2777610\n",
    "\n",
    "    if full_date in ['Sat, 30 Aug 2025', 'Sun, 31 Aug 2025', 'Thu, 4 Sept 2025']:\n",
    "        print(f\"{event_name} at {venue} on {full_date}\")\n",
    "        print(full_link)\n"
   ]
  },
  {
   "cell_type": "code",
   "execution_count": 108,
   "metadata": {},
   "outputs": [],
   "source": [
    "driver.get(full_link)"
   ]
  },
  {
   "cell_type": "code",
   "execution_count": 112,
   "metadata": {},
   "outputs": [],
   "source": [
    "try: \n",
    "    driver.find_element(By.CSS_SELECTOR, \".important-information-modal__button\").click()\n",
    "except:\n",
    "    pass\n"
   ]
  },
  {
   "cell_type": "code",
   "execution_count": 113,
   "metadata": {},
   "outputs": [],
   "source": []
  },
  {
   "cell_type": "code",
   "execution_count": 123,
   "metadata": {},
   "outputs": [],
   "source": [
    "driver.find_element(By.CSS_SELECTOR, \".EventRoyal__DesktopLayout__BYO__header__BackText\").click()"
   ]
  },
  {
   "cell_type": "code",
   "execution_count": 124,
   "metadata": {},
   "outputs": [
    {
     "ename": "AttributeError",
     "evalue": "'list' object has no attribute 'click'",
     "output_type": "error",
     "traceback": [
      "\u001b[1;31m---------------------------------------------------------------------------\u001b[0m",
      "\u001b[1;31mAttributeError\u001b[0m                            Traceback (most recent call last)",
      "\u001b[1;32m<ipython-input-124-5d35bfce5d3d>\u001b[0m in \u001b[0;36m<module>\u001b[1;34m\u001b[0m\n\u001b[0;32m      1\u001b[0m \u001b[1;31m# driver.find_elements(By.CLASS_NAME, \"RoyalTicketListPanel__column\").click()\u001b[0m\u001b[1;33m\u001b[0m\u001b[1;33m\u001b[0m\u001b[1;33m\u001b[0m\u001b[0m\n\u001b[0;32m      2\u001b[0m \u001b[1;33m\u001b[0m\u001b[0m\n\u001b[1;32m----> 3\u001b[1;33m \u001b[0mdriver\u001b[0m\u001b[1;33m.\u001b[0m\u001b[0mfind_elements\u001b[0m\u001b[1;33m(\u001b[0m\u001b[0mBy\u001b[0m\u001b[1;33m.\u001b[0m\u001b[0mCLASS_NAME\u001b[0m\u001b[1;33m,\u001b[0m \u001b[1;34m\"RoyalTicketListPanel__iconList\"\u001b[0m\u001b[1;33m)\u001b[0m\u001b[1;33m.\u001b[0m\u001b[0mclick\u001b[0m\u001b[1;33m(\u001b[0m\u001b[1;33m)\u001b[0m\u001b[1;33m\u001b[0m\u001b[1;33m\u001b[0m\u001b[0m\n\u001b[0m",
      "\u001b[1;31mAttributeError\u001b[0m: 'list' object has no attribute 'click'"
     ]
    }
   ],
   "source": [
    "# driver.find_elements(By.CLASS_NAME, \"RoyalTicketListPanel__column\").click()\n",
    "\n",
    "driver.find_elements(By.CLASS_NAME, \"RoyalTicketListPanel__iconList\").click()\n"
   ]
  },
  {
   "cell_type": "code",
   "execution_count": 56,
   "metadata": {},
   "outputs": [],
   "source": [
    "<li class=\"RoyalTicketListPanel RoyalTicketListPanel__1 RoyalTicketListPanel--withColor\"\n",
    " style=\"border-left-color: rgba(71, 170, 66, 0.5);\"><div \n",
    " class=\"RoyalTicketListPanel__column\"><div\n",
    "  class=\"SectionRowSeat__sectionTitle RoyalTicketListPanel__SectionName\">Low\n",
    "  er 125</div><div class=\"RoyalTicketListPanel__SecondaryInfo\"\n",
    "  ><span class=\"SectionRowSeat__row \">Row&nbsp;11</span>1 - 4 tickets<div \n",
    "  class=\"RoyalTicketListPanel__InstantDeliveryStringAndVipString\"><ul \n",
    "  class=\"RoyalTicketListPanel__iconList\"><li><span data-testi\n",
    "  d=\"ticket-list-icon__tooltip-testid\"><svg xmlns=\"http://www.w3.org/2000/svg\" \n",
    "  width=\"15px\" height=\"14px\" viewBox=\"0 0 32 32\" role=\"img\" class=\"bb-icon\" color=\"#677383\"><path fill=\"fill\" fill-rule=\"evenodd\" d=\"M27.27 2v21.74l-2.279 1.073V4.281H6.281V27.72h18.71v-1.711h2.28V30H4V2h23.27zm-8.882 12.344v2.28H8.805v-2.28h9.583zm4.109 0v2.28h-2.028v-2.28h2.028zm-4.11-5.498v2.28H8.806v-2.28h9.583zm4.11 0v2.28h-2.028v-2.28h2.028z\"></path></svg></span><div id=\"ticket-list-icon-tooltip-genericdisclosures\" class=\"ticket-list-icon__tooltip bb-tooltip\" data-show=\"false\" data-popper-placement=\"top-start\" aria-hidden=\"true\" role=\"tooltip\" data-popper-reference-hidden=\"false\" data-popper-escaped=\"false\" style=\"position: absolute; inset: auto auto 0px 0px; transform: translate(0px, -35px);\">Restrictions or limitations apply<div class=\"bb-tooltip__arrow\" data-popper-arrow=\"true\" style=\"position: absolute; transform: translate(11px, 0px); left: 0px;\"></div></div></li><li><span data-testid=\"ticket-list-icon__tooltip-testid\"><svg xmlns=\"http://www.w3.org/2000/svg\" width=\"32\" height=\"32\" viewBox=\"0 0 32 32\" role=\"img\" class=\"bb-icon\"><path fill=\"fill\" fill-rule=\"evenodd\" d=\"M10.81 11.45c.235 2.567 2.408 4.55 5.05 4.55 2.643 0 4.757-1.925 5.051-4.55l.352-3.558c.177-1.517-.352-3.034-1.35-4.142C18.914 2.642 17.446 2 15.86 2a5.62 5.62 0 00-4.052 1.75c-.999 1.108-1.527 2.625-1.35 4.142l.351 3.558zm2.76-6.125a3.075 3.075 0 012.29-.992c.882 0 1.704.35 2.291.992s.88 1.458.763 2.333l-.352 3.559c-.117 1.4-1.292 2.45-2.701 2.45-1.41 0-2.584-1.05-2.702-2.45l-.352-3.559c-.059-.816.176-1.691.763-2.333zm14.212 15.75l-.529-.292c-6.224-3.325-16.032-3.325-22.256 0l-.529.292L3 30h21.435l.704-2.333H5.76l.822-5.075c5.403-2.625 13.624-2.625 19.027 0l.47 2.8.763 4.608h2.408l-1.468-8.925z\"></path></svg></span><div id=\"ticket-list-icon-tooltip-undefined\" class=\"ticket-list-icon__tooltip bb-tooltip\" data-show=\"false\" data-popper-placement=\"top-start\" aria-hidden=\"true\" role=\"tooltip\" data-popper-reference-hidden=\"false\" data-popper-escaped=\"false\" style=\"position: absolute; inset: auto auto 0px 0px; transform: translate(19px, -35px);\">Seller is a trader<div class=\"bb-tooltip__arrow\" data-popper-arrow=\"true\" style=\"position: absolute; transform: translate(12px, 0px); left: 0px;\"></div></div></li></ul></div></div></div><div class=\"RoyalTicketListPanel__column\"><div class=\"PriceDisplay RoyalTicketListPanel__price\"><div class=\"PriceDisplay__price\"><div class=\"AdvisoryPriceDisplay__content\">£1,117</div></div><div class=\"PriceDisplay__each\">each</div></div></div></li>"
   ]
  },
  {
   "cell_type": "code",
   "execution_count": 106,
   "metadata": {},
   "outputs": [
    {
     "name": "stdout",
     "output_type": "stream",
     "text": [
      "View is approximate\n",
      "Lower 125\n",
      "Row 24\n",
      "·\n",
      "Seats \n",
      "79, 80\n",
      "You'll get the 2 consecutive seats in the range\n",
      "You'll pay\n",
      "£451\n",
      "each\n",
      "Quantity\n",
      "2 tickets\n",
      "Mobile Transfer\n",
      "When your mobile tickets are ready, accept the ticket transfer offer from your email account. You will need an iPhone or Android phone to use your tickets. Your tickets will be ready by: Sun, 7 Sept 2025\n",
      "Limited or Obstructed View (printed on ticket)\n",
      "Under 15s must be accompanied by an adult\n",
      "The seller of these tickets is a trader: TT International Ltd\n",
      "Prices\n",
      "Prices are set by sellers. Prices include estimated fees. Prices may vary from face value.\n",
      "Face value: £135.00 per ticket.\n",
      "100% guarantee\n",
      "We back every order\n",
      "Tickets are original and will arrive in time for the event\n",
      "Full refund if the event is cancelled and not rescheduled\n",
      "Customer service all the way out to your seat\n",
      "Secure payment\n",
      "We accept the most secure payment methods\n"
     ]
    }
   ],
   "source": [
    "print(driver.find_elements(By.CLASS_NAME, \"EventRoyal__DesktopLayout__BYO__body\")[0].text)"
   ]
  },
  {
   "cell_type": "code",
   "execution_count": 67,
   "metadata": {},
   "outputs": [
    {
     "data": {
      "text/plain": [
       "''"
      ]
     },
     "execution_count": 67,
     "metadata": {},
     "output_type": "execute_result"
    }
   ],
   "source": [
    "driver.find_element(By.CSS_SELECTOR, \"div.AdvisoryPriceDisplay__content\").text"
   ]
  },
  {
   "cell_type": "code",
   "execution_count": 65,
   "metadata": {},
   "outputs": [
    {
     "data": {
      "text/plain": [
       "'https://www.stubhub.co.uk/checkout/review?event_id=106485372&ticket_id=2578656552&quantity_selected=2'"
      ]
     },
     "execution_count": 65,
     "metadata": {},
     "output_type": "execute_result"
    }
   ],
   "source": [
    "driver.find_element(By.CSS_SELECTOR, \"div.RoyalBuildYourOrder__footer a\").get_attribute(\"href\")"
   ]
  },
  {
   "cell_type": "code",
   "execution_count": 68,
   "metadata": {},
   "outputs": [
    {
     "name": "stdout",
     "output_type": "stream",
     "text": [
      "Image URL: https://media.stubcloudstatic.com/stubhub-catalog/image/upload/t_VFS/f_auto/v1/maps/sectionviews/venues/99498/config/1495835/default/2777973?_a=ATO2BAA0\n",
      "Section: \n",
      "Row: \n",
      "Seats: 224 - 227\n",
      "Price: \n",
      "Quantity: 2 tickets\n"
     ]
    }
   ],
   "source": [
    "from selenium import webdriver\n",
    "from selenium.webdriver.common.by import By\n",
    "\n",
    "# Extract view from seat image URL\n",
    "image_element = driver.find_element(By.CSS_SELECTOR, \"img.ViewFromSeat\")\n",
    "image_url = image_element.get_attribute(\"src\")\n",
    "\n",
    "# Extract section, row, and seat details\n",
    "section = driver.find_element(By.CSS_SELECTOR, \".SectionRowSeat__sectionTitle\").text\n",
    "row = driver.find_element(By.CSS_SELECTOR, \".SectionRowSeat__row\").text\n",
    "seats = driver.find_element(By.CSS_SELECTOR, \".SectionRowSeat__seats\").text\n",
    "\n",
    "# Extract price\n",
    "price = driver.find_element(By.CSS_SELECTOR, \".AdvisoryPriceDisplay__content\").text\n",
    "\n",
    "# Extract ticket quantity\n",
    "quantity = driver.find_element(By.CSS_SELECTOR, \".DropdownList__display__text span\").text\n",
    "\n",
    "# Print extracted details\n",
    "print(f\"Image URL: {image_url}\")\n",
    "print(f\"Section: {section}\")\n",
    "print(f\"Row: {row}\")\n",
    "print(f\"Seats: {seats}\")\n",
    "print(f\"Price: {price}\")\n",
    "print(f\"Quantity: {quantity}\")\n"
   ]
  },
  {
   "cell_type": "code",
   "execution_count": null,
   "metadata": {},
   "outputs": [],
   "source": []
  },
  {
   "cell_type": "code",
   "execution_count": null,
   "metadata": {},
   "outputs": [],
   "source": []
  },
  {
   "cell_type": "code",
   "execution_count": null,
   "metadata": {},
   "outputs": [],
   "source": []
  },
  {
   "cell_type": "code",
   "execution_count": null,
   "metadata": {},
   "outputs": [],
   "source": []
  },
  {
   "cell_type": "code",
   "execution_count": null,
   "metadata": {},
   "outputs": [],
   "source": []
  },
  {
   "cell_type": "code",
   "execution_count": null,
   "metadata": {},
   "outputs": [],
   "source": [
    "# # start up driver (instructions: https://www.geeksforgeeks.org/how-to-install-selenium-webdriver-on-macos/)\n",
    "# # https://googlechromelabs.github.io/chrome-for-testing/\n",
    "\n",
    "# #     driver = webdriver.Chrome(executable_path=r'C:\\Users\\marle\\Downloads\\chromedriver.exe',options=options)\n",
    "# def start_up_driver():\n",
    "#     from selenium import webdriver\n",
    "#     import time\n",
    "\n",
    "#     print(\"Test Execution Started\")\n",
    "#     options = webdriver.ChromeOptions()\n",
    "#     options.add_argument('--ignore-ssl-errors=yes')\n",
    "#     options.add_argument('--ignore-certificate-errors')\n",
    "#     driver = webdriver.Remote(\n",
    "#     command_executor='http://localhost:4444/wd/hub',\n",
    "#     options=options\n",
    "#     )\n",
    "\n",
    "#     from selenium.webdriver.common.by import By\n",
    "#     from selenium.webdriver.support.wait import WebDriverWait\n",
    "#     from selenium.webdriver.support import expected_conditions as ec\n",
    "    \n",
    "#     try:\n",
    "#         driver.get('https://www.google.com/imghp?hl=en&tab=ri&ogbl')\n",
    "#         element_presence_check = WebDriverWait(driver, 3).until(ec.presence_of_element_located((By.CLASS_NAME, \"Gdd5U\")))\n",
    "#         driver.find_element(By.CLASS_NAME, \"Gdd5U\").click()\n",
    "#     except:\n",
    "#         pass\n",
    "    \n",
    "#     return driver"
   ]
  }
 ],
 "metadata": {
  "kernelspec": {
   "display_name": "Python 3",
   "language": "python",
   "name": "python3"
  },
  "language_info": {
   "codemirror_mode": {
    "name": "ipython",
    "version": 3
   },
   "file_extension": ".py",
   "mimetype": "text/x-python",
   "name": "python",
   "nbconvert_exporter": "python",
   "pygments_lexer": "ipython3",
   "version": "3.8.5"
  }
 },
 "nbformat": 4,
 "nbformat_minor": 2
}
